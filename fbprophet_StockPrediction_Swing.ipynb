{
  "nbformat": 4,
  "nbformat_minor": 0,
  "metadata": {
    "colab": {
      "name": "fbprophet_StockPrediction_Swing.ipynb",
      "provenance": [],
      "collapsed_sections": [],
      "authorship_tag": "ABX9TyP3N0aUNhzZmhZGD+A4lgIq",
      "include_colab_link": true
    },
    "kernelspec": {
      "name": "python3",
      "display_name": "Python 3"
    },
    "language_info": {
      "name": "python"
    }
  },
  "cells": [
    {
      "cell_type": "markdown",
      "metadata": {
        "id": "view-in-github",
        "colab_type": "text"
      },
      "source": [
        "<a href=\"https://colab.research.google.com/github/arpitgits/Stock-Market-predictions-using-different-ML-algorithms-for-swing-and-day-trading/blob/main/fbprophet_StockPrediction_Swing.ipynb\" target=\"_parent\"><img src=\"https://colab.research.google.com/assets/colab-badge.svg\" alt=\"Open In Colab\"/></a>"
      ]
    },
    {
      "cell_type": "code",
      "metadata": {
        "id": "DIdq7gtqHJwO"
      },
      "source": [
        "import numpy as np\n",
        "import pandas as pd\n",
        "import matplotlib.pyplot as plt"
      ],
      "execution_count": null,
      "outputs": []
    },
    {
      "cell_type": "code",
      "metadata": {
        "colab": {
          "base_uri": "https://localhost:8080/",
          "height": 206
        },
        "id": "xoroTGsoHRd9",
        "outputId": "c476c526-8997-40cf-e2b2-89b9fe9c07d6"
      },
      "source": [
        "data = pd.read_csv(\"TCS.NS.csv\") \n",
        "data.head(5)"
      ],
      "execution_count": null,
      "outputs": [
        {
          "output_type": "execute_result",
          "data": {
            "text/html": [
              "<div>\n",
              "<style scoped>\n",
              "    .dataframe tbody tr th:only-of-type {\n",
              "        vertical-align: middle;\n",
              "    }\n",
              "\n",
              "    .dataframe tbody tr th {\n",
              "        vertical-align: top;\n",
              "    }\n",
              "\n",
              "    .dataframe thead th {\n",
              "        text-align: right;\n",
              "    }\n",
              "</style>\n",
              "<table border=\"1\" class=\"dataframe\">\n",
              "  <thead>\n",
              "    <tr style=\"text-align: right;\">\n",
              "      <th></th>\n",
              "      <th>Date</th>\n",
              "      <th>Open</th>\n",
              "      <th>High</th>\n",
              "      <th>Low</th>\n",
              "      <th>Close</th>\n",
              "      <th>Adj Close</th>\n",
              "      <th>Volume</th>\n",
              "    </tr>\n",
              "  </thead>\n",
              "  <tbody>\n",
              "    <tr>\n",
              "      <th>0</th>\n",
              "      <td>2016-11-28</td>\n",
              "      <td>1147.0</td>\n",
              "      <td>1159.724976</td>\n",
              "      <td>1125.949951</td>\n",
              "      <td>1141.300049</td>\n",
              "      <td>1036.414185</td>\n",
              "      <td>1924296.0</td>\n",
              "    </tr>\n",
              "    <tr>\n",
              "      <th>1</th>\n",
              "      <td>2016-11-29</td>\n",
              "      <td>1137.5</td>\n",
              "      <td>1146.000000</td>\n",
              "      <td>1126.275024</td>\n",
              "      <td>1129.925049</td>\n",
              "      <td>1026.084717</td>\n",
              "      <td>1442296.0</td>\n",
              "    </tr>\n",
              "    <tr>\n",
              "      <th>2</th>\n",
              "      <td>2016-11-30</td>\n",
              "      <td>1132.5</td>\n",
              "      <td>1147.375000</td>\n",
              "      <td>1121.150024</td>\n",
              "      <td>1138.025024</td>\n",
              "      <td>1033.440430</td>\n",
              "      <td>3445832.0</td>\n",
              "    </tr>\n",
              "    <tr>\n",
              "      <th>3</th>\n",
              "      <td>2016-12-01</td>\n",
              "      <td>1138.5</td>\n",
              "      <td>1145.000000</td>\n",
              "      <td>1127.025024</td>\n",
              "      <td>1131.724976</td>\n",
              "      <td>1027.719116</td>\n",
              "      <td>1123052.0</td>\n",
              "    </tr>\n",
              "    <tr>\n",
              "      <th>4</th>\n",
              "      <td>2016-12-02</td>\n",
              "      <td>1129.0</td>\n",
              "      <td>1135.400024</td>\n",
              "      <td>1102.599976</td>\n",
              "      <td>1110.925049</td>\n",
              "      <td>1008.830811</td>\n",
              "      <td>1998032.0</td>\n",
              "    </tr>\n",
              "  </tbody>\n",
              "</table>\n",
              "</div>"
            ],
            "text/plain": [
              "         Date    Open         High  ...        Close    Adj Close     Volume\n",
              "0  2016-11-28  1147.0  1159.724976  ...  1141.300049  1036.414185  1924296.0\n",
              "1  2016-11-29  1137.5  1146.000000  ...  1129.925049  1026.084717  1442296.0\n",
              "2  2016-11-30  1132.5  1147.375000  ...  1138.025024  1033.440430  3445832.0\n",
              "3  2016-12-01  1138.5  1145.000000  ...  1131.724976  1027.719116  1123052.0\n",
              "4  2016-12-02  1129.0  1135.400024  ...  1110.925049  1008.830811  1998032.0\n",
              "\n",
              "[5 rows x 7 columns]"
            ]
          },
          "metadata": {},
          "execution_count": 4
        }
      ]
    },
    {
      "cell_type": "code",
      "metadata": {
        "colab": {
          "base_uri": "https://localhost:8080/",
          "height": 300
        },
        "id": "REy2ykVyHUCr",
        "outputId": "a51ced64-ffcf-4a2d-bdc2-84db6878d949"
      },
      "source": [
        "data.describe()"
      ],
      "execution_count": null,
      "outputs": [
        {
          "output_type": "execute_result",
          "data": {
            "text/html": [
              "<div>\n",
              "<style scoped>\n",
              "    .dataframe tbody tr th:only-of-type {\n",
              "        vertical-align: middle;\n",
              "    }\n",
              "\n",
              "    .dataframe tbody tr th {\n",
              "        vertical-align: top;\n",
              "    }\n",
              "\n",
              "    .dataframe thead th {\n",
              "        text-align: right;\n",
              "    }\n",
              "</style>\n",
              "<table border=\"1\" class=\"dataframe\">\n",
              "  <thead>\n",
              "    <tr style=\"text-align: right;\">\n",
              "      <th></th>\n",
              "      <th>Open</th>\n",
              "      <th>High</th>\n",
              "      <th>Low</th>\n",
              "      <th>Close</th>\n",
              "      <th>Adj Close</th>\n",
              "      <th>Volume</th>\n",
              "    </tr>\n",
              "  </thead>\n",
              "  <tbody>\n",
              "    <tr>\n",
              "      <th>count</th>\n",
              "      <td>1232.000000</td>\n",
              "      <td>1232.000000</td>\n",
              "      <td>1232.000000</td>\n",
              "      <td>1232.000000</td>\n",
              "      <td>1232.000000</td>\n",
              "      <td>1.232000e+03</td>\n",
              "    </tr>\n",
              "    <tr>\n",
              "      <th>mean</th>\n",
              "      <td>2097.195656</td>\n",
              "      <td>2119.696202</td>\n",
              "      <td>2073.814149</td>\n",
              "      <td>2096.278512</td>\n",
              "      <td>2019.205775</td>\n",
              "      <td>3.090719e+06</td>\n",
              "    </tr>\n",
              "    <tr>\n",
              "      <th>std</th>\n",
              "      <td>714.967434</td>\n",
              "      <td>720.960114</td>\n",
              "      <td>707.820251</td>\n",
              "      <td>713.962642</td>\n",
              "      <td>745.430851</td>\n",
              "      <td>3.097558e+06</td>\n",
              "    </tr>\n",
              "    <tr>\n",
              "      <th>min</th>\n",
              "      <td>1080.250000</td>\n",
              "      <td>1092.224976</td>\n",
              "      <td>1072.824951</td>\n",
              "      <td>1077.275024</td>\n",
              "      <td>978.273499</td>\n",
              "      <td>8.682200e+04</td>\n",
              "    </tr>\n",
              "    <tr>\n",
              "      <th>25%</th>\n",
              "      <td>1468.881226</td>\n",
              "      <td>1485.887482</td>\n",
              "      <td>1459.506287</td>\n",
              "      <td>1471.481262</td>\n",
              "      <td>1365.793610</td>\n",
              "      <td>1.857258e+06</td>\n",
              "    </tr>\n",
              "    <tr>\n",
              "      <th>50%</th>\n",
              "      <td>2042.500000</td>\n",
              "      <td>2061.500000</td>\n",
              "      <td>2016.000000</td>\n",
              "      <td>2041.075012</td>\n",
              "      <td>1940.919983</td>\n",
              "      <td>2.578037e+06</td>\n",
              "    </tr>\n",
              "    <tr>\n",
              "      <th>75%</th>\n",
              "      <td>2285.224976</td>\n",
              "      <td>2324.062500</td>\n",
              "      <td>2258.824951</td>\n",
              "      <td>2280.274902</td>\n",
              "      <td>2246.029053</td>\n",
              "      <td>3.574815e+06</td>\n",
              "    </tr>\n",
              "    <tr>\n",
              "      <th>max</th>\n",
              "      <td>3930.000000</td>\n",
              "      <td>3989.899902</td>\n",
              "      <td>3900.000000</td>\n",
              "      <td>3954.550049</td>\n",
              "      <td>3946.976807</td>\n",
              "      <td>8.806715e+07</td>\n",
              "    </tr>\n",
              "  </tbody>\n",
              "</table>\n",
              "</div>"
            ],
            "text/plain": [
              "              Open         High  ...    Adj Close        Volume\n",
              "count  1232.000000  1232.000000  ...  1232.000000  1.232000e+03\n",
              "mean   2097.195656  2119.696202  ...  2019.205775  3.090719e+06\n",
              "std     714.967434   720.960114  ...   745.430851  3.097558e+06\n",
              "min    1080.250000  1092.224976  ...   978.273499  8.682200e+04\n",
              "25%    1468.881226  1485.887482  ...  1365.793610  1.857258e+06\n",
              "50%    2042.500000  2061.500000  ...  1940.919983  2.578037e+06\n",
              "75%    2285.224976  2324.062500  ...  2246.029053  3.574815e+06\n",
              "max    3930.000000  3989.899902  ...  3946.976807  8.806715e+07\n",
              "\n",
              "[8 rows x 6 columns]"
            ]
          },
          "metadata": {},
          "execution_count": 5
        }
      ]
    },
    {
      "cell_type": "code",
      "metadata": {
        "colab": {
          "base_uri": "https://localhost:8080/",
          "height": 206
        },
        "id": "M2_da3f6HbKk",
        "outputId": "a6b75b91-4666-466f-e2a9-a3e90f06f31d"
      },
      "source": [
        "data = data.rename(columns = {\"Date\":\"ds\",\"Close\":\"y\"}) #renaming the columns of the dataset\n",
        "data.head(5)"
      ],
      "execution_count": null,
      "outputs": [
        {
          "output_type": "execute_result",
          "data": {
            "text/html": [
              "<div>\n",
              "<style scoped>\n",
              "    .dataframe tbody tr th:only-of-type {\n",
              "        vertical-align: middle;\n",
              "    }\n",
              "\n",
              "    .dataframe tbody tr th {\n",
              "        vertical-align: top;\n",
              "    }\n",
              "\n",
              "    .dataframe thead th {\n",
              "        text-align: right;\n",
              "    }\n",
              "</style>\n",
              "<table border=\"1\" class=\"dataframe\">\n",
              "  <thead>\n",
              "    <tr style=\"text-align: right;\">\n",
              "      <th></th>\n",
              "      <th>ds</th>\n",
              "      <th>Open</th>\n",
              "      <th>High</th>\n",
              "      <th>Low</th>\n",
              "      <th>y</th>\n",
              "      <th>Adj Close</th>\n",
              "      <th>Volume</th>\n",
              "    </tr>\n",
              "  </thead>\n",
              "  <tbody>\n",
              "    <tr>\n",
              "      <th>0</th>\n",
              "      <td>2016-11-28</td>\n",
              "      <td>1147.0</td>\n",
              "      <td>1159.724976</td>\n",
              "      <td>1125.949951</td>\n",
              "      <td>1141.300049</td>\n",
              "      <td>1036.414185</td>\n",
              "      <td>1924296.0</td>\n",
              "    </tr>\n",
              "    <tr>\n",
              "      <th>1</th>\n",
              "      <td>2016-11-29</td>\n",
              "      <td>1137.5</td>\n",
              "      <td>1146.000000</td>\n",
              "      <td>1126.275024</td>\n",
              "      <td>1129.925049</td>\n",
              "      <td>1026.084717</td>\n",
              "      <td>1442296.0</td>\n",
              "    </tr>\n",
              "    <tr>\n",
              "      <th>2</th>\n",
              "      <td>2016-11-30</td>\n",
              "      <td>1132.5</td>\n",
              "      <td>1147.375000</td>\n",
              "      <td>1121.150024</td>\n",
              "      <td>1138.025024</td>\n",
              "      <td>1033.440430</td>\n",
              "      <td>3445832.0</td>\n",
              "    </tr>\n",
              "    <tr>\n",
              "      <th>3</th>\n",
              "      <td>2016-12-01</td>\n",
              "      <td>1138.5</td>\n",
              "      <td>1145.000000</td>\n",
              "      <td>1127.025024</td>\n",
              "      <td>1131.724976</td>\n",
              "      <td>1027.719116</td>\n",
              "      <td>1123052.0</td>\n",
              "    </tr>\n",
              "    <tr>\n",
              "      <th>4</th>\n",
              "      <td>2016-12-02</td>\n",
              "      <td>1129.0</td>\n",
              "      <td>1135.400024</td>\n",
              "      <td>1102.599976</td>\n",
              "      <td>1110.925049</td>\n",
              "      <td>1008.830811</td>\n",
              "      <td>1998032.0</td>\n",
              "    </tr>\n",
              "  </tbody>\n",
              "</table>\n",
              "</div>"
            ],
            "text/plain": [
              "           ds    Open         High  ...            y    Adj Close     Volume\n",
              "0  2016-11-28  1147.0  1159.724976  ...  1141.300049  1036.414185  1924296.0\n",
              "1  2016-11-29  1137.5  1146.000000  ...  1129.925049  1026.084717  1442296.0\n",
              "2  2016-11-30  1132.5  1147.375000  ...  1138.025024  1033.440430  3445832.0\n",
              "3  2016-12-01  1138.5  1145.000000  ...  1131.724976  1027.719116  1123052.0\n",
              "4  2016-12-02  1129.0  1135.400024  ...  1110.925049  1008.830811  1998032.0\n",
              "\n",
              "[5 rows x 7 columns]"
            ]
          },
          "metadata": {},
          "execution_count": 6
        }
      ]
    },
    {
      "cell_type": "code",
      "metadata": {
        "colab": {
          "base_uri": "https://localhost:8080/"
        },
        "id": "OjhRXg50HVQD",
        "outputId": "dd63e176-b169-440f-9d55-dda69d03c4ae"
      },
      "source": [
        "from fbprophet import Prophet\n",
        "m = Prophet(daily_seasonality = True) # the Prophet class (model)\n",
        "m.fit(data) # fit the model using all data"
      ],
      "execution_count": null,
      "outputs": [
        {
          "output_type": "stream",
          "name": "stderr",
          "text": [
            "INFO:numexpr.utils:NumExpr defaulting to 2 threads.\n"
          ]
        },
        {
          "output_type": "execute_result",
          "data": {
            "text/plain": [
              "<fbprophet.forecaster.Prophet at 0x7f3bd7db2c50>"
            ]
          },
          "metadata": {},
          "execution_count": 7
        }
      ]
    },
    {
      "cell_type": "code",
      "metadata": {
        "colab": {
          "base_uri": "https://localhost:8080/",
          "height": 457
        },
        "id": "f9bSaPzmHcUF",
        "outputId": "b33adeec-5da6-40a3-e854-5ab086fe1fe5"
      },
      "source": [
        "future = m.make_future_dataframe(periods=10) #we need to specify the number of days in future\n",
        "prediction = m.predict(future)\n",
        "m.plot(prediction)\n",
        "plt.title(\"Prediction of the Stock Price using the Prophet\")\n",
        "plt.xlabel(\"Date\")\n",
        "plt.ylabel(\"Close Stock Price\")\n",
        "plt.show()"
      ],
      "execution_count": null,
      "outputs": [
        {
          "output_type": "display_data",
          "data": {
            "image/png": "[encoded data removed]",
            "text/plain": [
              "<Figure size 720x432 with 1 Axes>"
            ]
          },
          "metadata": {}
        }
      ]
    },
    {
      "cell_type": "code",
      "metadata": {
        "id": "SKby592THhB_"
      },
      "source": [
        ""
      ],
      "execution_count": null,
      "outputs": []
    }
  ]
}